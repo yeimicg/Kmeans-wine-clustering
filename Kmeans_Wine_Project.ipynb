{
 "cells": [
  {
   "cell_type": "code",
   "execution_count": 39,
   "metadata": {},
   "outputs": [
    {
     "name": "stdout",
     "output_type": "stream",
     "text": [
      "/Users/yeimigonzalez/Desktop/MSA 2021/Text Analytics/Text Analytics Project\n"
     ]
    }
   ],
   "source": [
    "#################################################################################################################\n",
    "########################## Import Required Packages and Read in File ############################################\n",
    "#################################################################################################################\n",
    "import pandas as pd\n",
    "import numpy as np\n",
    "import nltk\n",
    "import re\n",
    "import numpy as np\n",
    "import os\n",
    "import csv \n",
    "from sklearn.cluster import KMeans\n",
    "print(os.getcwd())\n",
    "\n",
    "\n",
    "\n",
    "os.chdir(\"/Users/yeimigonzalez/Desktop/MSA 2021/Text Analytics/Text Analytics Project\")\n"
   ]
  },
  {
   "cell_type": "code",
   "execution_count": 40,
   "metadata": {},
   "outputs": [
    {
     "name": "stdout",
     "output_type": "stream",
     "text": [
      "<class 'pandas.core.frame.DataFrame'>\n",
      "RangeIndex: 150930 entries, 0 to 150929\n",
      "Data columns (total 11 columns):\n",
      " #   Column       Non-Null Count   Dtype  \n",
      "---  ------       --------------   -----  \n",
      " 0   ID           150930 non-null  int64  \n",
      " 1   country      150925 non-null  object \n",
      " 2   description  150930 non-null  object \n",
      " 3   designation  105195 non-null  object \n",
      " 4   points       150930 non-null  int64  \n",
      " 5   price        137235 non-null  float64\n",
      " 6   province     150925 non-null  object \n",
      " 7   region_1     125870 non-null  object \n",
      " 8   region_2     60953 non-null   object \n",
      " 9   variety      150930 non-null  object \n",
      " 10  winery       150930 non-null  object \n",
      "dtypes: float64(1), int64(2), object(8)\n",
      "memory usage: 12.7+ MB\n"
     ]
    }
   ],
   "source": [
    "wine=pd.read_csv('winemag-data_first150k.csv')\n",
    "wine.info()"
   ]
  },
  {
   "cell_type": "code",
   "execution_count": 23,
   "metadata": {},
   "outputs": [],
   "source": [
    "#################################################################################################################\n",
    "######################## Only have to convert columns to a list for step-by-step TF-IDF ######################\n",
    "#################################################################################################################\n"
   ]
  },
  {
   "cell_type": "code",
   "execution_count": 41,
   "metadata": {},
   "outputs": [
    {
     "data": {
      "text/plain": [
       "150930"
      ]
     },
     "execution_count": 41,
     "metadata": {},
     "output_type": "execute_result"
    }
   ],
   "source": [
    "#################################################################################################################\n",
    "################################ Document Clustering and Text Pre-processing ####################################\n",
    "#################################################################################################################\n",
    "\n",
    "stop_words = nltk.corpus.stopwords.words('english')\n",
    "\n",
    "def normalize_document(doc):\n",
    "    # lower case and remove special characters\\whitespaces\n",
    "    doc = re.sub(r'[^a-zA-Z0-9\\s]', '', doc, re.I|re.A)\n",
    "    doc = doc.lower()\n",
    "    doc = doc.strip()\n",
    "    # tokenize document\n",
    "    tokens = nltk.word_tokenize(doc)\n",
    "    # filter stopwords out of document\n",
    "    filtered_tokens = [token for token in tokens if token not in stop_words]\n",
    "    # re-create document from filtered tokens\n",
    "    doc = ' '.join(filtered_tokens)\n",
    "    return doc\n",
    "\n",
    "normalize_corpus = np.vectorize(normalize_document)\n",
    "\n",
    "norm_corpus = normalize_corpus(list(wine['description']))\n",
    "len(norm_corpus)\n"
   ]
  },
  {
   "cell_type": "code",
   "execution_count": null,
   "metadata": {},
   "outputs": [],
   "source": []
  },
  {
   "cell_type": "code",
   "execution_count": 86,
   "metadata": {},
   "outputs": [
    {
     "data": {
      "text/plain": [
       "(150930, 34172)"
      ]
     },
     "execution_count": 86,
     "metadata": {},
     "output_type": "execute_result"
    }
   ],
   "source": [
    "#################################################################################################################\n",
    "####################################### Extract TF-IDF Features #################################################\n",
    "#################################################################################################################\n",
    "#taking out words that are not descriptor words, ambiguous words, wine names, and descriptor words that were in 4/5 clusters because they gave no significant interpretation\n",
    "\n",
    "from sklearn.feature_extraction.text import CountVectorizer\n",
    "\n",
    "stop_words = stop_words + ['quite',\n",
    "  'wine',\n",
    "  'features',\n",
    "  'fruit',\n",
    "  'plenty',\n",
    "  'It',\n",
    "  'either',\n",
    "  'hitting',\n",
    "  'sweet',\n",
    "  'spot',\n",
    "  'Good',\n",
    "  'hold',\n",
    "  'least',\n",
    "  'acidity',\n",
    "  'tannins', \n",
    "  'flavors',\n",
    "  'fruits',\n",
    "  'notes', \n",
    "  'drink', \n",
    "  'finish', \n",
    "  'shows', \n",
    "  'good', \n",
    "  'palate', \n",
    "  'aromas', \n",
    "  'spice', \n",
    "  'ripe', \n",
    "  'shows', \n",
    "  'berry', \n",
    "  'nose', \n",
    "  'rich', \n",
    "  'blend',\n",
    "  'black',\n",
    "  'mouth', \n",
    "  'offers', \n",
    "  'bit', \n",
    "  'oak', \n",
    "  'red', \n",
    "  'dry',  \n",
    "  'offers', \n",
    "  'well', \n",
    "  'next',  \n",
    "  'pinot', \n",
    "  'cabernet', \n",
    "  'dark', \n",
    "  'blackberry', \n",
    "  'years',\n",
    "  'chocolate', \n",
    "  'plum', \n",
    "  'vanilla', \n",
    "  'firm', \n",
    "  'like', \n",
    "  'full', \n",
    "  'character', \n",
    "  'structure', \n",
    "  'fine', \n",
    "  'theres', \n",
    "  'easy', \n",
    "  'little', \n",
    "  'cherry', \n",
    "  'soft', \n",
    "  'cola',  \n",
    "  'white', \n",
    "  'texture', \n",
    "  'currant', \n",
    "  'touch',\n",
    "  'crisp', \n",
    "  'fruity', \n",
    "  'also', \n",
    "  'bright', \n",
    "  'clean', \n",
    "  'blanc', \n",
    "  'sauvignon', \n",
    "  'franc', \n",
    "  'syrah', \n",
    "  'verdot', \n",
    "  'petit', \n",
    "  'cab', \n",
    "  'sauvignon merlot', \n",
    "  'petit verdot', \n",
    "  'chardonnay', \n",
    "  'green', \n",
    "  'great', \n",
    "  'style', \n",
    "  'long', \n",
    "  'balanced',  \n",
    "  'wines', \n",
    "  'light', \n",
    "  'toast', \n",
    "  'mineral', \n",
    "  'made', \n",
    "  'sangiovese',  \n",
    "  'malbec',\n",
    "  'meyer',  \n",
    "  'meyer lemon', \n",
    "  'orange', \n",
    "  'stone', \n",
    "  'noir', \n",
    "  'mouthfeel', \n",
    "  'big', \n",
    "  'currants', \n",
    "  'cherries currants', \n",
    "  'fresh', \n",
    "  'blackberries currants', \n",
    "  'merlot', \n",
    "  'peel', \n",
    "  'best', \n",
    "  'flavor',  \n",
    "  'one', \n",
    "  'slightly',  \n",
    "  'finishes', \n",
    "  'imported',  \n",
    "  'riesling',\n",
    "  'hints',\n",
    "  'yellow', \n",
    "  'tannic', \n",
    "  'buttered', \n",
    "  'spicy', \n",
    "  'hint', \n",
    "  'note', \n",
    "  'nice', \n",
    "  'balance', \n",
    "  'minerality', \n",
    "  'creamy',\n",
    "  'wood aging', \n",
    "  'barrel',  \n",
    "  'sample', \n",
    "  'barrel sample', \n",
    "  'give', \n",
    "  'alcohol',  \n",
    "  'almost',  \n",
    "  'tight', \n",
    "  'potential', \n",
    "  'weight', \n",
    "  'needs', \n",
    "  'pair', \n",
    "  'new', \n",
    "  'vineyard', \n",
    "  'core',  \n",
    "  'edge', \n",
    "  'young', \n",
    "  'showing', \n",
    "  'packed', \n",
    "  'along', \n",
    "  'aging potential', \n",
    "  'time', \n",
    "  'layers', \n",
    "  'simple', \n",
    "  'opens', \n",
    "  'yet', \n",
    "  'feel',\n",
    "]\n",
    "\n",
    "cv = CountVectorizer(ngram_range=(1, 2), min_df=10, max_df=0.8, stop_words=stop_words)\n",
    "cv_matrix = cv.fit_transform(norm_corpus)\n",
    "cv_matrix.shape\n",
    "\n"
   ]
  },
  {
   "cell_type": "code",
   "execution_count": 87,
   "metadata": {},
   "outputs": [
    {
     "data": {
      "text/plain": [
       "KMeans(algorithm='auto', copy_x=True, init='k-means++', max_iter=25,\n",
       "       n_clusters=3, n_init=5, n_jobs=None, precompute_distances='auto',\n",
       "       random_state=42, tol=0.0001, verbose=0)"
      ]
     },
     "execution_count": 87,
     "metadata": {},
     "output_type": "execute_result"
    }
   ],
   "source": [
    "#################################################################################################################\n",
    "####################################### Cluster Wine w/ K-Means #################################################\n",
    "#################################################################################################################\n",
    "from sklearn.cluster import KMeans\n",
    "\n",
    "NUM_CLUSTERS = 3\n",
    "km = KMeans(n_clusters=NUM_CLUSTERS, max_iter=25, n_init=5, random_state=42).fit(cv_matrix)\n",
    "km\n",
    "\n"
   ]
  },
  {
   "cell_type": "code",
   "execution_count": 88,
   "metadata": {},
   "outputs": [
    {
     "data": {
      "text/plain": [
       "Counter({0: 129957, 1: 10478, 2: 10495})"
      ]
     },
     "execution_count": 88,
     "metadata": {},
     "output_type": "execute_result"
    }
   ],
   "source": [
    "#################################################################################################################\n",
    "####################################### Determines Observations in Each Cluster #################################\n",
    "#################################################################################################################\n",
    "from collections import Counter\n",
    "\n",
    "Counter(km.labels_)"
   ]
  },
  {
   "cell_type": "code",
   "execution_count": 89,
   "metadata": {},
   "outputs": [],
   "source": [
    "wine['kmeans_cluster'] = km.labels_"
   ]
  },
  {
   "cell_type": "code",
   "execution_count": 104,
   "metadata": {},
   "outputs": [],
   "source": [
    "#################################################################################################################\n",
    "############ Sorting Clusters by 'points' and Including 'description' and 'variety' for Next Step #####################\n",
    "#################################################################################################################\n",
    "\n",
    "wine_clusters = (wine[['price','variety', 'kmeans_cluster', 'points']]\n",
    "                  .sort_values(by=['kmeans_cluster', 'points'], \n",
    "                               ascending=False)\n",
    "                  .groupby('kmeans_cluster').head(20))\n",
    "wine_clusters = wine_clusters.copy(deep=True)"
   ]
  },
  {
   "cell_type": "code",
   "execution_count": 108,
   "metadata": {},
   "outputs": [
    {
     "name": "stdout",
     "output_type": "stream",
     "text": [
      "CLUSTER #1\n",
      "Key Features: ['citrus', 'raspberry', 'pepper', 'smooth', 'cherries', 'peach', 'juicy', 'wood', 'herbal', 'tart', 'complex', 'elegant', 'age', 'smoky', 'delicious', 'cassis', 'aging', 'dense', 'still', 'licorice', 'pretty', 'lemon', 'concentrated', 'pineapple', 'solid', 'richness', 'dried', 'vintage', 'pear', 'coffee', 'tastes', 'intense', 'honey', 'earthy', 'much', 'color', 'blackberries', 'fullbodied', 'thats', 'herb', 'silky', 'complexity', 'jammy', 'melon', 'lime', 'tropical', 'wild', 'feels', 'apricot', 'herbs']\n",
      "Popular Wines: ['Bordeaux-style White Blend', 'Syrah', 'Muscat', 'Merlot', 'Chardonnay', 'Red Blend', 'Merlot', 'Chardonnay', 'Red Blend', 'Chardonnay', 'Syrah', 'Muscat', 'Cabernet Sauvignon', 'Cabernet Sauvignon', 'Pinot Noir', 'Prugnolo Gentile', 'Cabernet Blend', 'Syrah', 'Muscat', 'Merlot']\n",
      "--------------------------------------------------------------------------------\n",
      "CLUSTER #2\n",
      "Key Features: ['tobacco', 'leather', 'pepper', 'dried', 'earth', 'cassis', 'licorice', 'smooth', 'earthy', 'coffee', 'raspberry', 'herbal', 'cedar', 'tones', 'meat', 'delivers', 'elegant', 'herb', 'leather tobacco', 'complex', 'wild', 'cherries', 'savory', 'herbs', 'dense', 'velvety', 'mature', 'juicy', 'chewy', 'bouquet', 'clove', 'followed', 'smoke', 'thick', 'deep', 'prune', 'pipe', 'intensity', 'pipe tobacco', 'solid', 'polished', 'bold', 'feels', 'complexity', 'mocha', 'still', 'vintage', 'smoky', 'roasted', 'fullbodied']\n",
      "Popular Wines: ['Sangiovese', 'Red Blend', 'Nebbiolo', 'Red Blend', 'Red Blend', 'Sangiovese', 'Pinot Noir', 'Tinto Fino', 'Merlot', 'Red Blend', 'Cabernet Franc', 'Red Blend', 'Merlot', 'Red Blend', 'Cabernet Franc', 'Red Blend', 'Cabernet Sauvignon', 'Merlot', 'Red Blend', 'Sangiovese']\n",
      "--------------------------------------------------------------------------------\n",
      "CLUSTER #3\n",
      "Key Features: ['apple', 'citrus', 'pear', 'peach', 'lemon', 'lime', 'melon', 'apple pear', 'pineapple', 'apple citrus', 'baked', 'honey', 'round', 'tart', 'delicious', 'grapefruit', 'tropical', 'baked apple', 'pear apple', 'skin', 'lively', 'apple peach', 'refreshing', 'juicy', 'citrus apple', 'still', 'floral', 'apple skin', 'smooth', 'zesty', 'golden', 'bouquet', 'peach apple', 'feels', 'almond', 'freshness', 'tangy', 'toasty', 'thats', 'apple melon', 'solid', 'zest', 'nectarine', 'apricot', 'attractive', 'elegant', 'banana', 'apple lime', 'dried', 'sweetness']\n",
      "Popular Wines: ['Chardonnay', 'Chardonnay', 'Chardonnay', 'Chardonnay', 'Chardonnay', 'Chardonnay', 'Chardonnay', 'Champagne Blend', 'Riesling', 'Riesling', 'Bordeaux-style White Blend', 'Sparkling Blend', 'Chardonnay', 'Chardonnay', 'Chardonnay', 'Chardonnay', 'Champagne Blend', 'Chardonnay', 'Sparkling Blend', 'Corvina, Rondinella, Molinara']\n",
      "--------------------------------------------------------------------------------\n"
     ]
    }
   ],
   "source": [
    "#################################################################################################################\n",
    "############ Extracting Key-Features from Description and you can change 'points' Below to  #####################\n",
    "####### 'variety' or 'description' to See Associated Ratings, Wines, and Descriptions Per Cluster ###############\n",
    "#################################################################################################################\n",
    "feature_names = cv.get_feature_names()\n",
    "topn_features = 50\n",
    "\n",
    "\n",
    "ordered_centroids = km.cluster_centers_.argsort()[:, ::-1]\n",
    "\n",
    "# get key features for each cluster\n",
    "# get movies belonging to each cluster\n",
    "for cluster_num in range(NUM_CLUSTERS):\n",
    "    key_features = [feature_names[index] \n",
    "                        for index in ordered_centroids[cluster_num, :topn_features]]\n",
    "    wines = wine_clusters[wine_clusters['kmeans_cluster'] == cluster_num]['variety'].values.tolist()\n",
    "    print('CLUSTER #'+str(cluster_num+1))\n",
    "    print('Key Features:', key_features)\n",
    "    print('Popular Wines:', wines)\n",
    "    print('-'*80)"
   ]
  },
  {
   "cell_type": "code",
   "execution_count": null,
   "metadata": {},
   "outputs": [],
   "source": []
  }
 ],
 "metadata": {
  "kernelspec": {
   "display_name": "Python 3",
   "language": "python",
   "name": "python3"
  },
  "language_info": {
   "codemirror_mode": {
    "name": "ipython",
    "version": 3
   },
   "file_extension": ".py",
   "mimetype": "text/x-python",
   "name": "python",
   "nbconvert_exporter": "python",
   "pygments_lexer": "ipython3",
   "version": "3.7.6"
  }
 },
 "nbformat": 4,
 "nbformat_minor": 4
}
